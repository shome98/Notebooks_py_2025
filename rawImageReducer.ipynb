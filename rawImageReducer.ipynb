{
 "cells": [
  {
   "cell_type": "code",
   "execution_count": 2,
   "metadata": {},
   "outputs": [],
   "source": [
    "from PIL import Image\n",
    "import os\n",
    "import rawpy"
   ]
  },
  {
   "cell_type": "code",
   "execution_count": 6,
   "metadata": {},
   "outputs": [
    {
     "name": "stdout",
     "output_type": "stream",
     "text": [
      "Processed RAW: DSC_0017.NEF\n",
      "Processed RAW: DSC_0026.NEF\n",
      "Processed RAW: DSC_0027.NEF\n",
      "Processed RAW: DSC_0028.NEF\n",
      "Processed RAW: DSC_0029.NEF\n",
      "Processed RAW: DSC_0030.NEF\n",
      "Processed RAW: DSC_0078.NEF\n",
      "Processed RAW: DSC_0092.NEF\n",
      "Processed RAW: DSC_0093.NEF\n",
      "Processed RAW: DSC_0094.NEF\n",
      "Processed RAW: DSC_0095.NEF\n",
      "Processed RAW: DSC_0096.NEF\n",
      "Processed RAW: DSC_0097.NEF\n",
      "Processed RAW: DSC_0098.NEF\n",
      "Processed RAW: DSC_0099.NEF\n",
      "Processed RAW: DSC_0103.NEF\n",
      "Processed RAW: DSC_0104.NEF\n",
      "Processed RAW: DSC_0105.NEF\n",
      "Processed RAW: DSC_0111.NEF\n",
      "Processed RAW: DSC_0112.NEF\n",
      "Processed RAW: DSC_0115.NEF\n",
      "Processed RAW: DSC_0116.NEF\n",
      "Processed RAW: DSC_0117.NEF\n",
      "Processed RAW: DSC_0120.NEF\n",
      "Processed RAW: DSC_0121.NEF\n",
      "Processed RAW: DSC_0122.NEF\n",
      "Processed RAW: DSC_0123.NEF\n",
      "Processed RAW: DSC_0124.NEF\n",
      "Processed RAW: DSC_0125.NEF\n",
      "Processed RAW: DSC_0126.NEF\n",
      "Processed RAW: DSC_0127.NEF\n",
      "Processed RAW: DSC_0128.NEF\n",
      "Processed RAW: DSC_0129.NEF\n"
     ]
    },
    {
     "ename": "KeyboardInterrupt",
     "evalue": "",
     "output_type": "error",
     "traceback": [
      "\u001b[1;31m---------------------------------------------------------------------------\u001b[0m",
      "\u001b[1;31mKeyboardInterrupt\u001b[0m                         Traceback (most recent call last)",
      "Cell \u001b[1;32mIn[6], line 57\u001b[0m\n\u001b[0;32m     54\u001b[0m output_dir \u001b[38;5;241m=\u001b[39m \u001b[38;5;124mr\u001b[39m\u001b[38;5;124m\"\u001b[39m\u001b[38;5;124mC:\u001b[39m\u001b[38;5;124m\\\u001b[39m\u001b[38;5;124mUsers\u001b[39m\u001b[38;5;124m\\\u001b[39m\u001b[38;5;124msoupo\u001b[39m\u001b[38;5;124m\\\u001b[39m\u001b[38;5;124mDesktop\u001b[39m\u001b[38;5;124m\\\u001b[39m\u001b[38;5;124moutput_dir_3\u001b[39m\u001b[38;5;124m\"\u001b[39m\n\u001b[0;32m     56\u001b[0m \u001b[38;5;66;03m# Call the function with desired quality\u001b[39;00m\n\u001b[1;32m---> 57\u001b[0m \u001b[43mresize_images\u001b[49m\u001b[43m(\u001b[49m\u001b[43minput_dir\u001b[49m\u001b[43m,\u001b[49m\u001b[43m \u001b[49m\u001b[43moutput_dir\u001b[49m\u001b[43m,\u001b[49m\u001b[43m \u001b[49m\u001b[43mquality\u001b[49m\u001b[38;5;241;43m=\u001b[39;49m\u001b[38;5;241;43m98\u001b[39;49m\u001b[43m)\u001b[49m\n",
      "Cell \u001b[1;32mIn[6], line 39\u001b[0m, in \u001b[0;36mresize_images\u001b[1;34m(input_folder, output_folder, quality)\u001b[0m\n\u001b[0;32m     31\u001b[0m         rgb_image \u001b[38;5;241m=\u001b[39m raw\u001b[38;5;241m.\u001b[39mpostprocess(\n\u001b[0;32m     32\u001b[0m             no_auto_bright\u001b[38;5;241m=\u001b[39m\u001b[38;5;28;01mFalse\u001b[39;00m,  \u001b[38;5;66;03m# Enable auto-brightness\u001b[39;00m\n\u001b[0;32m     33\u001b[0m             auto_bright_thr\u001b[38;5;241m=\u001b[39m\u001b[38;5;241m0.05\u001b[39m,  \u001b[38;5;66;03m# Threshold for auto-brightness adjustment\u001b[39;00m\n\u001b[1;32m   (...)\u001b[0m\n\u001b[0;32m     36\u001b[0m             bright\u001b[38;5;241m=\u001b[39m\u001b[38;5;241m1.2\u001b[39m             \u001b[38;5;66;03m# Slight brightness boost\u001b[39;00m\n\u001b[0;32m     37\u001b[0m         )\n\u001b[0;32m     38\u001b[0m         img \u001b[38;5;241m=\u001b[39m Image\u001b[38;5;241m.\u001b[39mfromarray(rgb_image)\n\u001b[1;32m---> 39\u001b[0m         \u001b[43mimg\u001b[49m\u001b[38;5;241;43m.\u001b[39;49m\u001b[43msave\u001b[49m\u001b[43m(\u001b[49m\u001b[43moutput_path\u001b[49m\u001b[43m,\u001b[49m\u001b[43m \u001b[49m\u001b[38;5;28;43mformat\u001b[39;49m\u001b[38;5;241;43m=\u001b[39;49m\u001b[38;5;124;43m\"\u001b[39;49m\u001b[38;5;124;43mJPEG\u001b[39;49m\u001b[38;5;124;43m\"\u001b[39;49m\u001b[43m,\u001b[49m\u001b[43m \u001b[49m\u001b[43mquality\u001b[49m\u001b[38;5;241;43m=\u001b[39;49m\u001b[43mquality\u001b[49m\u001b[43m,\u001b[49m\u001b[43m \u001b[49m\u001b[43moptimize\u001b[49m\u001b[38;5;241;43m=\u001b[39;49m\u001b[38;5;28;43;01mTrue\u001b[39;49;00m\u001b[43m)\u001b[49m\n\u001b[0;32m     40\u001b[0m         \u001b[38;5;28mprint\u001b[39m(\u001b[38;5;124mf\u001b[39m\u001b[38;5;124m\"\u001b[39m\u001b[38;5;124mProcessed RAW: \u001b[39m\u001b[38;5;132;01m{\u001b[39;00mfilename\u001b[38;5;132;01m}\u001b[39;00m\u001b[38;5;124m\"\u001b[39m)\n\u001b[0;32m     41\u001b[0m \u001b[38;5;28;01melse\u001b[39;00m:\n\u001b[0;32m     42\u001b[0m     \u001b[38;5;66;03m# Process standard image formats\u001b[39;00m\n",
      "File \u001b[1;32mc:\\Users\\soupo\\Desktop\\GitHubFiles\\Notebooks_py_2025\\.venv\\Lib\\site-packages\\PIL\\Image.py:2605\u001b[0m, in \u001b[0;36mImage.save\u001b[1;34m(self, fp, format, **params)\u001b[0m\n\u001b[0;32m   2602\u001b[0m     fp \u001b[38;5;241m=\u001b[39m cast(IO[\u001b[38;5;28mbytes\u001b[39m], fp)\n\u001b[0;32m   2604\u001b[0m \u001b[38;5;28;01mtry\u001b[39;00m:\n\u001b[1;32m-> 2605\u001b[0m     \u001b[43msave_handler\u001b[49m\u001b[43m(\u001b[49m\u001b[38;5;28;43mself\u001b[39;49m\u001b[43m,\u001b[49m\u001b[43m \u001b[49m\u001b[43mfp\u001b[49m\u001b[43m,\u001b[49m\u001b[43m \u001b[49m\u001b[43mfilename\u001b[49m\u001b[43m)\u001b[49m\n\u001b[0;32m   2606\u001b[0m \u001b[38;5;28;01mexcept\u001b[39;00m \u001b[38;5;167;01mException\u001b[39;00m:\n\u001b[0;32m   2607\u001b[0m     \u001b[38;5;28;01mif\u001b[39;00m open_fp:\n",
      "File \u001b[1;32mc:\\Users\\soupo\\Desktop\\GitHubFiles\\Notebooks_py_2025\\.venv\\Lib\\site-packages\\PIL\\JpegImagePlugin.py:843\u001b[0m, in \u001b[0;36m_save\u001b[1;34m(im, fp, filename)\u001b[0m\n\u001b[0;32m    838\u001b[0m \u001b[38;5;28;01melse\u001b[39;00m:\n\u001b[0;32m    839\u001b[0m     \u001b[38;5;66;03m# The EXIF info needs to be written as one block, + APP1, + one spare byte.\u001b[39;00m\n\u001b[0;32m    840\u001b[0m     \u001b[38;5;66;03m# Ensure that our buffer is big enough. Same with the icc_profile block.\u001b[39;00m\n\u001b[0;32m    841\u001b[0m     bufsize \u001b[38;5;241m=\u001b[39m \u001b[38;5;28mmax\u001b[39m(bufsize, \u001b[38;5;28mlen\u001b[39m(exif) \u001b[38;5;241m+\u001b[39m \u001b[38;5;241m5\u001b[39m, \u001b[38;5;28mlen\u001b[39m(extra) \u001b[38;5;241m+\u001b[39m \u001b[38;5;241m1\u001b[39m)\n\u001b[1;32m--> 843\u001b[0m \u001b[43mImageFile\u001b[49m\u001b[38;5;241;43m.\u001b[39;49m\u001b[43m_save\u001b[49m\u001b[43m(\u001b[49m\n\u001b[0;32m    844\u001b[0m \u001b[43m    \u001b[49m\u001b[43mim\u001b[49m\u001b[43m,\u001b[49m\u001b[43m \u001b[49m\u001b[43mfp\u001b[49m\u001b[43m,\u001b[49m\u001b[43m \u001b[49m\u001b[43m[\u001b[49m\u001b[43mImageFile\u001b[49m\u001b[38;5;241;43m.\u001b[39;49m\u001b[43m_Tile\u001b[49m\u001b[43m(\u001b[49m\u001b[38;5;124;43m\"\u001b[39;49m\u001b[38;5;124;43mjpeg\u001b[39;49m\u001b[38;5;124;43m\"\u001b[39;49m\u001b[43m,\u001b[49m\u001b[43m \u001b[49m\u001b[43m(\u001b[49m\u001b[38;5;241;43m0\u001b[39;49m\u001b[43m,\u001b[49m\u001b[43m \u001b[49m\u001b[38;5;241;43m0\u001b[39;49m\u001b[43m)\u001b[49m\u001b[43m \u001b[49m\u001b[38;5;241;43m+\u001b[39;49m\u001b[43m \u001b[49m\u001b[43mim\u001b[49m\u001b[38;5;241;43m.\u001b[39;49m\u001b[43msize\u001b[49m\u001b[43m,\u001b[49m\u001b[43m \u001b[49m\u001b[38;5;241;43m0\u001b[39;49m\u001b[43m,\u001b[49m\u001b[43m \u001b[49m\u001b[43mrawmode\u001b[49m\u001b[43m)\u001b[49m\u001b[43m]\u001b[49m\u001b[43m,\u001b[49m\u001b[43m \u001b[49m\u001b[43mbufsize\u001b[49m\n\u001b[0;32m    845\u001b[0m \u001b[43m\u001b[49m\u001b[43m)\u001b[49m\n",
      "File \u001b[1;32mc:\\Users\\soupo\\Desktop\\GitHubFiles\\Notebooks_py_2025\\.venv\\Lib\\site-packages\\PIL\\ImageFile.py:556\u001b[0m, in \u001b[0;36m_save\u001b[1;34m(im, fp, tile, bufsize)\u001b[0m\n\u001b[0;32m    554\u001b[0m     fh \u001b[38;5;241m=\u001b[39m fp\u001b[38;5;241m.\u001b[39mfileno()\n\u001b[0;32m    555\u001b[0m     fp\u001b[38;5;241m.\u001b[39mflush()\n\u001b[1;32m--> 556\u001b[0m     \u001b[43m_encode_tile\u001b[49m\u001b[43m(\u001b[49m\u001b[43mim\u001b[49m\u001b[43m,\u001b[49m\u001b[43m \u001b[49m\u001b[43mfp\u001b[49m\u001b[43m,\u001b[49m\u001b[43m \u001b[49m\u001b[43mtile\u001b[49m\u001b[43m,\u001b[49m\u001b[43m \u001b[49m\u001b[43mbufsize\u001b[49m\u001b[43m,\u001b[49m\u001b[43m \u001b[49m\u001b[43mfh\u001b[49m\u001b[43m)\u001b[49m\n\u001b[0;32m    557\u001b[0m \u001b[38;5;28;01mexcept\u001b[39;00m (\u001b[38;5;167;01mAttributeError\u001b[39;00m, io\u001b[38;5;241m.\u001b[39mUnsupportedOperation) \u001b[38;5;28;01mas\u001b[39;00m exc:\n\u001b[0;32m    558\u001b[0m     _encode_tile(im, fp, tile, bufsize, \u001b[38;5;28;01mNone\u001b[39;00m, exc)\n",
      "File \u001b[1;32mc:\\Users\\soupo\\Desktop\\GitHubFiles\\Notebooks_py_2025\\.venv\\Lib\\site-packages\\PIL\\ImageFile.py:591\u001b[0m, in \u001b[0;36m_encode_tile\u001b[1;34m(im, fp, tile, bufsize, fh, exc)\u001b[0m\n\u001b[0;32m    588\u001b[0m     \u001b[38;5;28;01melse\u001b[39;00m:\n\u001b[0;32m    589\u001b[0m         \u001b[38;5;66;03m# slight speedup: compress to real file object\u001b[39;00m\n\u001b[0;32m    590\u001b[0m         \u001b[38;5;28;01massert\u001b[39;00m fh \u001b[38;5;129;01mis\u001b[39;00m \u001b[38;5;129;01mnot\u001b[39;00m \u001b[38;5;28;01mNone\u001b[39;00m\n\u001b[1;32m--> 591\u001b[0m         errcode \u001b[38;5;241m=\u001b[39m \u001b[43mencoder\u001b[49m\u001b[38;5;241;43m.\u001b[39;49m\u001b[43mencode_to_file\u001b[49m\u001b[43m(\u001b[49m\u001b[43mfh\u001b[49m\u001b[43m,\u001b[49m\u001b[43m \u001b[49m\u001b[43mbufsize\u001b[49m\u001b[43m)\u001b[49m\n\u001b[0;32m    592\u001b[0m \u001b[38;5;28;01mif\u001b[39;00m errcode \u001b[38;5;241m<\u001b[39m \u001b[38;5;241m0\u001b[39m:\n\u001b[0;32m    593\u001b[0m     \u001b[38;5;28;01mraise\u001b[39;00m _get_oserror(errcode, encoder\u001b[38;5;241m=\u001b[39m\u001b[38;5;28;01mTrue\u001b[39;00m) \u001b[38;5;28;01mfrom\u001b[39;00m \u001b[38;5;21;01mexc\u001b[39;00m\n",
      "\u001b[1;31mKeyboardInterrupt\u001b[0m: "
     ]
    }
   ],
   "source": [
    "def resize_images(input_folder, output_folder, quality=90):\n",
    "    \"\"\"\n",
    "    Resize and adjust image quality for all images in a folder, including RAW NEF format,\n",
    "    without altering warmth, color, or other visual properties.\n",
    "    \n",
    "    Args:\n",
    "    - input_folder (str): Folder containing the original images.\n",
    "    - output_folder (str): Folder to save the processed images.\n",
    "    - quality (int): Quality percentage for the output images.\n",
    "    \"\"\"\n",
    "    os.makedirs(output_folder, exist_ok=True)\n",
    "    supported_formats = (\".jpg\", \".jpeg\", \".png\", \".bmp\", \".tiff\", \".nef\")\n",
    "\n",
    "    for filename in os.listdir(input_folder):\n",
    "        if filename.lower().endswith(supported_formats):\n",
    "            input_path = os.path.join(input_folder, filename)\n",
    "            output_path = os.path.join(output_folder, filename.rsplit('.', 1)[0] + \".jpg\")\n",
    "\n",
    "            try:\n",
    "                if filename.lower().endswith(\".nef\"):\n",
    "                    # Process RAW NEF files with minimal adjustments\n",
    "                    with rawpy.imread(input_path) as raw:\n",
    "                        # Minimal processing, disabling auto brightness, etc.\n",
    "                        # rgb_image = raw.postprocess(\n",
    "                        #     no_auto_bright=True,\n",
    "                        #     use_camera_wb=True,\n",
    "                        #     output_bps=8,  # 8 bits per channel to match JPEG\n",
    "                        #     gamma=(1, 1),         # Linear gamma to preserve brightness\n",
    "                        #     bright=1.0\n",
    "                        # )\n",
    "                        rgb_image = raw.postprocess(\n",
    "                            no_auto_bright=False,  # Enable auto-brightness\n",
    "                            auto_bright_thr=0.05,  # Threshold for auto-brightness adjustment\n",
    "                            use_camera_wb=True,    # Use camera's white balance for accurate colors\n",
    "                            gamma=(2.2, 12.92),    # Standard sRGB gamma\n",
    "                            bright=1.2             # Slight brightness boost\n",
    "                        )\n",
    "                        img = Image.fromarray(rgb_image)\n",
    "                        img.save(output_path, format=\"JPEG\", quality=quality, optimize=True)\n",
    "                        print(f\"Processed RAW: {filename}\")\n",
    "                else:\n",
    "                    # Process standard image formats\n",
    "                    with Image.open(input_path) as img:\n",
    "                        if img.mode != \"RGB\":\n",
    "                            img = img.convert(\"RGB\")\n",
    "                        img.save(output_path, quality=quality, optimize=True)\n",
    "                        print(f\"Processed: {filename}\")\n",
    "            except Exception as e:\n",
    "                print(f\"Failed to process {filename}: {e}\")\n",
    "\n",
    "if __name__ == \"__main__\":\n",
    "    # Define input and output directories\n",
    "    input_dir = r\"C:\\Users\\soupo\\Desktop\\input_dir\"\n",
    "    output_dir = r\"C:\\Users\\soupo\\Desktop\\output_dir_3\"\n",
    "    \n",
    "    # Call the function with desired quality\n",
    "    resize_images(input_dir, output_dir, quality=98)\n"
   ]
  }
 ],
 "metadata": {
  "kernelspec": {
   "display_name": ".venv",
   "language": "python",
   "name": "python3"
  },
  "language_info": {
   "codemirror_mode": {
    "name": "ipython",
    "version": 3
   },
   "file_extension": ".py",
   "mimetype": "text/x-python",
   "name": "python",
   "nbconvert_exporter": "python",
   "pygments_lexer": "ipython3",
   "version": "3.12.5"
  }
 },
 "nbformat": 4,
 "nbformat_minor": 2
}
